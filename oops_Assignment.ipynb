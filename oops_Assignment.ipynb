{
  "nbformat": 4,
  "nbformat_minor": 0,
  "metadata": {
    "colab": {
      "provenance": []
    },
    "kernelspec": {
      "name": "python3",
      "display_name": "Python 3"
    },
    "language_info": {
      "name": "python"
    }
  },
  "cells": [
    {
      "cell_type": "markdown",
      "source": [
        "#OOPS Asssignment"
      ],
      "metadata": {
        "id": "V5e8iNdVfmtP"
      }
    },
    {
      "cell_type": "markdown",
      "source": [
        "##Q 1. what is object-oriented programming(OOP)?\n",
        "**Ans** -  Object-Oriented Programming (OOP) in Python is a programming paradigm that organizes code using objects, which are instances of classes. In Python, OOP is a fundamental part of the language, and understanding it is essential for writing effective and clean code.\n",
        "\n",
        "**Concepts of OOP in Python:**\n",
        "1. Class:\n",
        "  * A blueprint for creating objects.\n",
        "  * Defines properties (attributes) and behaviors (methods).\n",
        "2. Object:\n",
        "  * An instance of a class.\n",
        "  * Each object can have unique attribute values while sharing the class's methods.\n",
        "3. Encapsulation:\n",
        "  * Restricting direct access to certain components of an object.\n",
        "  * Achieved using private or protected attributes (_ or __ prefixes).\n",
        "4. Inheritance:\n",
        "  * Mechanism for a class to inherit properties and methods from another class.\n",
        "Promotes code reuse.\n",
        "5. Polymorphism:\n",
        "  * Ability to use the same interface for different underlying data types.\n",
        "6. Abstraction:\n",
        "  * Hiding the complexity and showing only the essential features of an object.\n",
        "Achieved using abstract base classes (via the abc module).\n",
        "\n",
        "**Benefits of OOP:**\n",
        "* Modularity: Code is organized into self-contained objects.\n",
        "* Reusability: Classes and methods can be reused in different programs.\n",
        "* Scalability: Easier to scale and maintain large codebases.\n",
        "* Abstraction and Encapsulation: Helps manage complexity and protect data."
      ],
      "metadata": {
        "id": "33M4oFkjfXdI"
      }
    },
    {
      "cell_type": "markdown",
      "source": [
        "##Q 2. what is a class in OOP?\n",
        "**Ans** - In Object-Oriented Programming, a class is blueprint or template used to define the structure and behavior of objects. It specifies the attributes and methods that an object created from the class can have. Classes encapsulate data and behavior, making it easier to manage and organize code.\n",
        "\n",
        "**Characteristics of a Class:**\n",
        "1. Attributes:\n",
        "  * Variables that hold data specific to the class or its instances.\n",
        "  * Example: A Car class might have attributes like color and brand.\n",
        "2. Methods:\n",
        "  * Functions defined within a class that describe the behavior of the objects.\n",
        "  * Example: A drive method for the Car class.\n",
        "3. Instantiation:\n",
        "  * The process of creating an object (instance) from a class.\n",
        "  * Example: my_car = Car() creates an instance of the Car class.\n",
        "\n",
        "**Advantages of Using Classes:**\n",
        "  * Encapsulation: Bundles data and methods together.\n",
        "  * Reusability: Classes can be reused in different programs or contexts.\n",
        "  * Scalability: Makes it easier to manage complex systems."
      ],
      "metadata": {
        "id": "7y853XXNimm9"
      }
    },
    {
      "cell_type": "markdown",
      "source": [
        "##Q 3. What is an object in OOP?\n",
        "**Ans** - In OOP, an object is an instance of a class. It represents a specific entity that has attributes and methods defined by its class. Objects are the building blocks of OOP and allow you to model real-world entities and their interactions in code.\n",
        "\n",
        "**Characteristics of an Object:**\n",
        "1. Identity:\n",
        "  * Each object is unique and can be identified in memory.\n",
        "  * Example: Two objects of the same class can have different states and be treated as distinct entities.\n",
        "2. Attributes:\n",
        "  * Data or properties that define the characteristics of an object.\n",
        "  * Example: A Car object might have attributes like brand, color, and speed.\n",
        "3. Methods:\n",
        "  * Functions that define the behavior of an object.\n",
        "  * Example: A Car object might have methods like drive() or stop()."
      ],
      "metadata": {
        "id": "5_8589z2ifok"
      }
    },
    {
      "cell_type": "markdown",
      "source": [
        "##Q 4. what is difference between abstraction and encapsulation?\n",
        "**Ans** - Abstraction and encapsulation are both fundamental concepts in OOP. While they are related and often work together but they serve different purposes and focus on distinct aspects of a program.\n",
        "___\n",
        "**Abstraction:**\n",
        "* Abstraction is the process of hiding the complex implementation details of a system and exposing only the essential features or functionalities.Abstraction is about simplifying design and exposing only relevant details.\n",
        "* It focuses on what an object does rather than how it does it.\n",
        "* **Purpose:**\n",
        "  * To reduce complexity and make the system easier to use.\n",
        "\n",
        "**Encapsulation:**\n",
        "* Encapsulation is the process of bundling attributes and functions that operate on the data into a single class.\n",
        "It restricts direct access to some of an object’s components to ensure controlled interaction.Encapsulation is about safeguarding the implementation and controlling access to data.\n",
        "* **Purpose:**\n",
        "  * To protect the internal state of an object and ensure data integrity.\n",
        "  * To enforce access control through access specifiers (public, protected, private).\n",
        "\n",
        "**Differences:**\n",
        "\n",
        "|Aspect\t|Abstraction\t|Encapsulation|\n",
        "|----|----|-----|\n",
        "| Focus\t| Hiding implementation details.\t| Hiding internal state and ensuring control.|\n",
        "| Purpose\t| Emphasizes what an object does.\t| Protects the integrity of an object by controlling access.|\n",
        "| Implementation\t| Achieved using abstract classes or interfaces.\t| Achieved using private/protected attributes and methods.|\n",
        "| Example\t| Defining a sound() method in an abstract Animal class.\t| Restricting access to __balance in a BankAccount class.|\n",
        "| Real-World Analogy\t| Using a remote to operate a TV without knowing its internal circuitry. | Keeping the TV circuitry hidden inside its casing.|"
      ],
      "metadata": {
        "id": "BemDFF7_ia9U"
      }
    },
    {
      "cell_type": "markdown",
      "source": [
        "##Q 5. what are dunder methods in python?\n",
        "**Ans** - In Python, dunder methods short for \"double underscore methods\" are special methods that have double underscores (__) at the beginning and end of their names. They are also known as magic methods or special methods. These methods are used to define and customize the behavior of objects, often allowing you to interact with Python's built-in operations in a custom way.\n",
        "\n",
        "**Characteristics of Dunder Methods:**\n",
        "1. Special Syntax:\n",
        "  * Their names are always enclosed in double underscores (e.g., __ init __, __ str __).\n",
        "  * Python invokes them automatically in specific situations.\n",
        "2. Not Called Directly:\n",
        "  * We typically don’t call dunder methods directly. Instead, they are triggered by Python's built-in functions or operators.\n",
        "  * For example, calling len(obj) invokes the __ len __ method of obj.\n",
        "  ___\n",
        "**Common Dunder Methods:**\n",
        "1. **Object Initialization and Representation:**\n",
        "\n",
        "* __ init __(self, ...): Called when an object is instantiated; used to initialize attributes.\n",
        "*  __ str __(self): Returns a human-readable string representation of an object (used by print()).\n",
        "* __ repr __(self): Returns an official string representation of an object (used by repr()).\n",
        "\n",
        "2. Operator Overloading:\n",
        "* __ add __(self, other): Defines behavior for the + operator.\n",
        "* __ sub __(self, other): Defines behavior for the - operator.\n",
        "* __ mul __(self, other): Defines behavior for the * operator.\n",
        "* __ eq __(self, other): Defines behavior for the == operator.\n",
        "\n",
        "3. Container Emulation:\n",
        "* __ getitem __(self, key): Defines behavior for indexing (obj[key]).\n",
        "* __ setitem __(self, key, value): Defines behavior for assignment to indexed elements.\n",
        "* __ delitem __(self, key): Defines behavior for deleting indexed elements.\n",
        "class CustomList.\n",
        "\n",
        "4. Context Management:\n",
        "* __ enter __(self): Defines behavior when entering a with block.\n",
        "* __ exit __(self, exc_type, exc_value, traceback): Defines behavior when exiting a with block.\n",
        "\n",
        "5. Length and Size:\n",
        "* __ len __(self): Defines behavior for the len() function.\n",
        "\n",
        "6. Callable Objects:\n",
        "* __ call __(self, ...): Makes an object callable like a function.\n",
        "\n",
        "7. Comparison:\n",
        "* __ lt __(self, other): Defines behavior for <.\n",
        "* __ le __(self, other): Defines behavior for <=.\n",
        "* __ gt __(self, other): Defines behavior for >.\n",
        "* __ ge __(self, other): Defines behavior for >=.\n",
        "* __ ne __(self, other): Defines behavior for !=."
      ],
      "metadata": {
        "id": "8cg1i3z-iTBt"
      }
    },
    {
      "cell_type": "markdown",
      "source": [
        "##Q 6. Explain the concept of inheritance in OOP.\n",
        "**Ans** - Inheritance is one of the core principles of OOP. It allows a class (child or derived class) to inherit attributes and methods from another class (parent or base class). This promotes code reusability and helps establish a hierarchical relationship between classes.\n",
        "___\n",
        "**Concepts of Inheritance**\n",
        "1. Parent Class (Base Class):\n",
        "* The class whose attributes and methods are inherited by another class.\n",
        "2. Child Class (Derived Class):\n",
        "* The class that inherits from the parent class.\n",
        "* It can have its own unique attributes and methods in addition to those inherited.\n",
        "3. Code Reusability:\n",
        "* Inheritance allows you to use the properties and behavior of an existing class, reducing redundancy.\n",
        "4. Method Overriding:\n",
        "* A child class can redefine a method from the parent class to provide specific functionality.\n",
        "5. Hierarchical Relationships:\n",
        "* Inheritance helps create relationships like \"is-a\". For example, a Dog class can inherit from an Animal class because a dog is an animal.\n",
        "___\n",
        "**Advantages of Inheritance**\n",
        "* **Code Reusability**:\n",
        "  * Avoids duplication by reusing methods and attributes from the parent class.\n",
        "* **Improved Organization**:\n",
        "  * Simplifies the structure of programs by grouping related functionalities into classes.\n",
        "* **Extensibility:**\n",
        "  * Child classes can extend or modify the behavior of the parent class.\n",
        "* **Real-World Modeling:**\n",
        "  * Helps create systems that mimic real-world hierarchical relationships.\n",
        "\n",
        "**Disadvantages of Inheritance**\n",
        "* **Increased Complexity:**\n",
        "  * Extensive use of inheritance can make the system harder to understand and maintain.\n",
        "* **Tight Coupling:**\n",
        "  * Changes in the parent class may unintentionally affect the child classes.\n",
        "* **Overhead of Method Resolution:**\n",
        "  * In cases of multiple inheritance, resolving which parent class's method to use can be complex."
      ],
      "metadata": {
        "id": "EbpqcC99iNNz"
      }
    },
    {
      "cell_type": "markdown",
      "source": [
        "##Q 7. What is polymorphism in OOP?\n",
        "**Ans** - Polymorphism is a key concept in OOP that allows objects of different classes to be treated as objects of a common parent class. The term polymorphism comes from the Greek words poly (many) and morphe (form), meaning \"many forms.\"\n",
        "Polymorphism enables a single interface to represent different types or classes of objects. This makes code more flexible, reusable, and easier to maintain.\n",
        "\n",
        "**Types of Polymorphism**\n",
        "1. **Compile-Time Polymorphism** (Method Overloading):\n",
        "* A single class defines multiple methods with the same name but different parameters.\n",
        "* Python doesn’t support traditional method overloading as seen in languages like Java or C++, but you can achieve * similar functionality using default arguments or variable-length arguments.\n",
        "2. **Runtime Polymorphism** (Method Overriding):\n",
        "* A child class provides its own implementation of a method that overrides a method in the parent class.\n",
        "* The method that gets called is determined at runtime based on the object type.\n",
        "\n",
        "**Polymorphism in Python**\n",
        "* Polymorphism Through Inheritance:\n",
        "  * When a child class inherits from a parent class and overrides a method, it exhibits polymorphism.\n",
        "\n",
        "* Polymorphism Through Duck Typing:\n",
        "  * Python supports polymorphism through \"duck typing,\" where the actual type of the object doesn’t matter as long as it has the required behavior or methods. This is based on the principle, \"If it looks like a duck and quacks like a duck, it’s a duck.\"\n",
        "\n",
        "* Polymorphism with Functions and Methods:\n",
        "  * Functions can exhibit polymorphism by working with objects of different types.\n",
        "\n",
        "**Advantages of Polymorphism**\n",
        "* **Flexibility:** A single function or method can work with different types of objects.\n",
        "* **Code Reusability:** Polymorphism reduces redundancy and makes code more modular and reusable.\n",
        "* **Simplified Code:** It allows writing generalized code that can handle various specific cases.\n",
        "* **Extensibility:** New classes can easily fit into existing code without requiring changes to it."
      ],
      "metadata": {
        "id": "WRKavOsAiEhU"
      }
    },
    {
      "cell_type": "markdown",
      "source": [
        "##Q 8. How is encapsulation achieved in Python?\n",
        "**Ans** - Encapsulation is a principle of OOP that restricts access to certain components of an object to protect the integrity of its internal state and behavior. It allows you to define boundaries within your code, ensuring that sensitive data is only accessible or modifiable through controlled interfaces. This is achieved using access specifiers and methods to manage data.\n",
        "___\n",
        "**Encapsulation is Achieved in Python**\n",
        "1. **Public Members:**\n",
        "  * Accessible from anywhere in the program.\n",
        "  * By default, all attributes and methods in Python are public.\n",
        "2. **Protected Members:**\n",
        "  * Indicated by a single underscore (_) prefix.\n",
        "  * Suggests that the member should only be accessed within the class and its subclasses.\n",
        "  * Python doesn't strictly enforce this, but it is a convention.\n",
        "3. **Private Members:**\n",
        "  * Indicated by a double underscore (__) prefix.\n",
        "  * These are not directly accessible outside the class.\n",
        "  * Python performs name mangling, making it difficult to access private members directly from outside the class."
      ],
      "metadata": {
        "id": "nDtxLLighk2j"
      }
    },
    {
      "cell_type": "markdown",
      "source": [
        "##Q 9. What is a constructor in Python?\n",
        "**Ans** - A constructor in Python is a special method used to initialize the attributes of an object when it is created. The constructor is automatically called when a new instance of a class is created, ensuring that the object is properly set up with initial values.\n",
        "\n",
        "In Python, the constructor method is named __ init __.\n",
        "\n",
        "**Characteristics of a Constructor**\n",
        "1. Special Method: The constructor is defined using the __ init __ method.\n",
        "2. Automatic Invocation: It is automatically called when an object is instantiated.\n",
        "3. Initialization: Its primary purpose is to initialize the object's attributes.\n",
        "4. Self Parameter: The self parameter represents the instance of the class and is used to access attributes and methods."
      ],
      "metadata": {
        "id": "Kcykqe3dir7V"
      }
    },
    {
      "cell_type": "markdown",
      "source": [
        "##Q 10. What are class and static methods in Python?\n",
        "**Ans** - In Python, class methods and static methods are special methods that belong to a class rather than an instance of the class. They provide additional ways to structure your code and allow you to define behavior that is relevant to the class itself rather than its individual objects.\n",
        "___\n",
        "1. **Class Methods**\n",
        "  * A class method is bound to the class, not an instance of the class.\n",
        "  * It can modify the class state by accessing class variables.\n",
        "  * It is defined using the @classmethod decorator.\n",
        "  * The first parameter of a class method is cls, which refers to the class itself.\n",
        "\n",
        "* **Key Points:**\n",
        "  * Accesses class variables and methods.\n",
        "  * Does not require an instance to be called.\n",
        "  * Often used to create factory methods.\n",
        "\n",
        "2. **Static Methods**\n",
        "  * A static method is a method that does not operate on an instance or the class itself.\n",
        "  * It cannot access instance variables or class variables.\n",
        "  * It is defined using the @staticmethod decorator.\n",
        "  * It is primarily used when a method is logically related to the class but does not require access to class or instance data.\n",
        "\n",
        "* **Key Points:**\n",
        "  * Does not take self or cls as the first parameter.\n",
        "  * Acts as a regular function but belongs to the class's namespace.\n",
        "  * Useful for utility or helper functions.\n",
        "\n",
        "**Comparison: Class Method vs Static Method**\n",
        "\n",
        "|Feature\t|Class Method\t|Static Method|\n",
        "|----|-----|-----|\n",
        "|Decorator\t|@classmethod\t|@staticmethod|\n",
        "|First Parameter\t|cls (refers to the class itself)\t|No special first parameter|\n",
        "|Access to Class\t|Yes\t|No|\n",
        "|Access to Instance\t|No\t|No|\n",
        "|Use Case\tModifying |class state or creating factory methods\t|Utility or helper methods|"
      ],
      "metadata": {
        "id": "N3XitvKvmwqe"
      }
    },
    {
      "cell_type": "markdown",
      "source": [
        "##Q 11. What is method overloading in Python?\n",
        "**Ans** - Method overloading in Python refers to defining multiple methods with the same name but with different parameters. However, unlike other programming languages (like Java or C++), Python does not natively support method overloading in the traditional sense. In Python, a method in a class can be redefined, and the latest definition will override any previous ones.\n",
        "\n",
        "Instead, Python achieves method overloading functionality through:\n",
        "\n",
        "1. **Using Default Arguments**\n",
        "\n",
        "We can use default argument values to make a single method work in different ways.\n",
        "\n",
        "Example:"
      ],
      "metadata": {
        "id": "KFzTkO8BoCJ4"
      }
    },
    {
      "cell_type": "code",
      "source": [
        "class Calculator:\n",
        "    def add(self, a, b=0, c=0):\n",
        "        return a + b + c\n",
        "calc = Calculator()\n",
        "print(calc.add(5))\n",
        "print(calc.add(5, 10))\n",
        "print(calc.add(5, 10, 15))"
      ],
      "metadata": {
        "id": "lyC7yQJPpCik"
      },
      "execution_count": null,
      "outputs": []
    },
    {
      "cell_type": "markdown",
      "source": [
        "\n",
        "2. **Using Variable-Length Arguments**\n",
        "\n",
        "We can use * args (non-keyworded variable-length arguments) or ** kwargs (keyworded variable-length arguments) to handle multiple cases.\n",
        "\n",
        "Example:"
      ],
      "metadata": {
        "id": "W0v9KwOkpMzS"
      }
    },
    {
      "cell_type": "code",
      "source": [
        "class Calculator:\n",
        "    def add(self, *args):\n",
        "        return sum(args)\n",
        "calc = Calculator()\n",
        "print(calc.add(5))\n",
        "print(calc.add(5, 10))\n",
        "print(calc.add(5, 10, 15))"
      ],
      "metadata": {
        "id": "UIqrMA7kpRpB"
      },
      "execution_count": null,
      "outputs": []
    },
    {
      "cell_type": "markdown",
      "source": [
        "3. **Explicit Argument Handling**\n",
        "\n",
        "We can explicitly check the number and types of arguments within the method body to define different behaviors.\n",
        "\n",
        "Example:"
      ],
      "metadata": {
        "id": "MBrCr6SDpW5J"
      }
    },
    {
      "cell_type": "code",
      "source": [
        "class Calculator:\n",
        "    def add(self, a, b=None, c=None):\n",
        "        if b is None and c is None:\n",
        "            return a\n",
        "        elif c is None:\n",
        "            return a + b\n",
        "        else:\n",
        "            return a + b + c\n",
        "calc = Calculator()\n",
        "print(calc.add(5))\n",
        "print(calc.add(5, 10))\n",
        "print(calc.add(5, 10, 15))"
      ],
      "metadata": {
        "id": "Hq84ru4zpmHR"
      },
      "execution_count": null,
      "outputs": []
    },
    {
      "cell_type": "markdown",
      "source": [
        "##Q 12. What is method overriding in OOP?\n",
        "**Ans** - Method overriding is a concept in OOP where a subclass provides a specific implementation of a method that is already defined in its superclass. The method in the subclass has the same name, same parameters, and performs a different behavior than the method in the parent class.\n",
        "Overriding allows a subclass to customize or extend the behavior of a method inherited from a superclass. The subclass can call the parent class's method if needed, but it is usually done when the subclass needs to provide a different behavior for the same method.\n",
        "___\n",
        "**Characteristics of Method Overriding:**\n",
        "1. **Same Method Signature** : The method in the subclass must have the same name, same number, and type of parameters as the method in the parent class.\n",
        "2. **Subclass Customization** : The subclass provides its own version of the method, replacing the behavior of the inherited method.\n",
        "3. **Dynamic Dispatch** : In most OOP languages, the method that gets called is determined at runtime based on the object type."
      ],
      "metadata": {
        "id": "183FLjj_qm9j"
      }
    },
    {
      "cell_type": "markdown",
      "source": [
        "##Q 13. What is a property decorator in Python?\n",
        "**Ans** - The property decorator provides a way to make an instance variable accessible (getter), updatable (setter), or deletable (deleter) in a controlled manner, without exposing the internal attributes directly to the outside world.The property decorator in Python allows you to define methods that can be accessed like attributes. It helps manage the state of an object in a controlled manner, providing encapsulation, validation, and the ability to calculate values dynamically, all while keeping the interface clean and easy to use.\n",
        "\n",
        "The property decorator is used to turn a method into a \"getter\" for a class attribute. You can also use @property to create setter and deleter methods to modify or delete the attribute."
      ],
      "metadata": {
        "id": "KF-am6zes2HJ"
      }
    },
    {
      "cell_type": "markdown",
      "source": [
        "##Q 14. Why is polymorphism important in OOP?\n",
        "**Ans** - Polymorphism is one of the four fundamental principles of OOP, alongside Encapsulation, Abstraction, and Inheritance. It allows objects of different classes to be treated as objects of a common superclass. The key feature of polymorphism is that it allows for the use of a single method or function name to perform different tasks based on the object calling it, or the context in which it is used.\n",
        "\n",
        "**Importantance of Polymorphism in OOP:**\n",
        "1. **Flexibility and Reusability**\n",
        "  * Polymorphism allows you to write more flexible and reusable code.We can write methods that work with objects of different classes, and the method will behave appropriately based on the specific type of object passed to it.\n",
        "  * For instance, We can have a function that takes an object of a base class type, but it can work with any subclass objects. This allows our code to be extended without needing to modify existing functions.\n",
        "2. **Code Maintainability**\n",
        "  * Polymorphism improves the maintainability of the code. By allowing objects of different types to be handled uniformly, we can reduce redundancy and make our code easier to modify or extend.\n",
        "  * If we add new subclasses that implement the same methods, we do not have to modify the code that uses the parent class or the common interface. This promotes the open/closed principle (open for extension, closed for modification).\n",
        "3. **Supports Inheritance and Interfaces**\n",
        "  * Polymorphism enables objects to be treated as instances of their parent class, making inheritance more useful. It allows for interface-based design where a common interface can be used by multiple classes, promoting better abstraction and separation of concerns.\n",
        "  * For example, in Python, a base class can define a method that is then overridden in the subclasses, allowing the base class reference to call the method dynamically based on the object type.\n",
        "4. **Improves Code Readability**\n",
        "  * It enhances the readability and clarity of the code. When polymorphism is properly used, we can abstract away the specific details of individual classes and focus on the high-level behavior that the objects share. This makes our code more concise and easier to understand.\n",
        "5. **Enables Polymorphic Behavior**\n",
        "  * Polymorphism enables dynamic dispatch, meaning that the method invoked is determined at runtime based on the actual object type, not the type of the reference variable. This provides greater flexibility in how objects are handled.\n",
        "  * This dynamic behavior is crucial in scenarios where the same code needs to interact with objects of multiple types.\n",
        "6. **Supports Collections of Different Types**\n",
        "  * Polymorphism is extremely useful when dealing with collections or lists of different object types. For instance, we can store objects of different classes in the same collection (like a list) and call the same method on each of them, relying on polymorphism to ensure the correct method is called for each object.\n",
        "7. **Enables Simpler Code with Interfaces**\n",
        "  * Polymorphism allows the use of interfaces and abstract base classes (ABCs) in Python, enabling us to design systems where objects can interact without needing to know the exact class of the object.\n",
        "  * This decouples the client code from specific implementation details and allows for greater flexibility when extending the system with new classes."
      ],
      "metadata": {
        "id": "tqqxS2rDvSUm"
      }
    },
    {
      "cell_type": "markdown",
      "source": [
        "##Q 15. What is an abstract class in Python?\n",
        "**Ans** - An abstract class in Python is a class that cannot be instantiated directly and is intended to serve as a blueprint for other classes. It can contain abstract methods, which are methods that are declared but contain no implementation. Subclasses that inherit from an abstract class must provide concrete implementations for these abstract methods. This allows you to define a common interface for a group of related classes.\n",
        "\n",
        "Abstract classes are used to enforce certain methods to be implemented in subclasses, ensuring that the subclasses adhere to a specific structure or behavior.\n",
        "\n",
        "**Features of Abstract Classes in Python:**\n",
        "\n",
        "1. Cannot be instantiated: You cannot create an instance of an abstract class directly.\n",
        "2. Abstract methods: These are methods that are defined in the abstract class but don't have any implementation. Subclasses are required to override these methods.\n",
        "3. Subclasses must implement abstract methods: A subclass of an abstract class must provide concrete implementations for all of the abstract methods from the parent class."
      ],
      "metadata": {
        "id": "TN5szRokveJY"
      }
    },
    {
      "cell_type": "markdown",
      "source": [
        "##Q 16. What are the advantages of OOP?\n",
        "**Ans** - OOP offers several key advantages that make it a popular programming paradigm. By organizing code into instances of classes, OOP helps improve code organization, reusability, scalability, and maintainability. Here are some of the main advantages of OOP:\n",
        "\n",
        "1. **Modularity** (Code Organization)\n",
        "  * Encapsulation allow us to bundle attributes and functions that operate on that data into a single unit called an object. This makes the code more organized and easier to understand and maintain.\n",
        "  * Each object operates as a distinct entity, which makes managing large codebases more manageable.\n",
        "  * Example: A Car class can encapsulate the attributes and methods related to a car, such as engine_type, drive(), start(), etc.\n",
        "2. **Reusability**\n",
        "  * OOP promotes code reuse through inheritance and composition. Once we define a class, we can reuse it in other programs or extend it by creating subclasses.\n",
        "  * Classes and methods can be reused across different parts of a program or even in different programs, reducing the need for redundant code.\n",
        "  * Example: A Vehicle base class can be reused to define Car, Truck, and Motorcycle classes.\n",
        "3. **Maintainability and Scalability**\n",
        "  * OOP promotes better maintainability because it allows code to be organized in a modular way. It also enables easier modification since you can update or extend specific objects without affecting other parts of the program.\n",
        "  * OOP is also scalable: As projects grow, it's easier to add new features or make modifications without breaking existing functionality.\n",
        "  * Example: If we need to change the behavior of the Car class (such as adding a new feature like an electric mode), you can do so without affecting other parts of the program.\n",
        "4. **Abstraction**\n",
        "  * OOP allows us to abstract complex systems by modeling real-world entities as objects with simplified interfaces. This reduces complexity by hiding internal details and exposing only relevant functionality.\n",
        "  * The implementation details of an object can be hidden from the user, who interacts with the object through its public methods and properties.\n",
        "  * Example: A BankAccount class can abstract the internal workings of how transactions are processed and provide simple methods like deposit() and withdraw() to users.\n",
        "5. **Encapsulation**\n",
        "  * Encapsulation is the practice of bundling data and methods that operate on that data within one unit (class), and restricting access to some of the object's components. This provides a way to protect data from unintended interference and misuse.\n",
        "  * It helps in data hiding by restricting direct access to an object's attributes and only allowing interaction via well-defined methods (getters and setters).\n",
        "  * Example: A Person class might hide the ssn (social security number) attribute and provide methods like get_ssn() or set_ssn() for controlled access.\n",
        "6. **Inheritance**\n",
        "  * Inheritance allows a class to inherit attributes and methods from another class. This promotes code reuse and enables the creation of hierarchies.\n",
        "  * Subclasses can extend or modify the behavior of parent classes, which promotes the \"don't repeat yourself\" (DRY) principle.\n",
        "  * Example: A Bird class can be inherited by subclasses like Parrot and Penguin, which can then add specialized behaviors like fly() or swim().\n",
        "7. **Polymorphism**\n",
        "  * Polymorphism allows objects of different classes to be treated as instances of the same class through a common interface. This enables the same method to behave differently depending on the object that invokes it.\n",
        "  * It makes code more flexible and extensible, allowing new classes to be added without modifying the existing code that uses the polymorphic methods.\n",
        "  * Example: A method make_sound() can be implemented in both Dog and Cat classes with different behaviors, but you can call make_sound() on any animal object, regardless of whether it's a dog or a cat.\n",
        "8. **Code Flexibility and Extensibility**\n",
        "  * OOP makes it easier to add new functionality to a system without altering the existing code. Through inheritance, polymorphism, and abstraction, we can extend the system in a flexible and controlled manner.\n",
        "  * Example: A game with a character class can easily add new character types (e.g., Warrior, Mage) by creating new subclasses that inherit from the base Character class and overriding relevant methods.\n",
        "9. **Improved Collaboration**\n",
        "  * OOP makes team collaboration easier, especially in large-scale projects. Different developers can work on different classes or objects simultaneously, without worrying too much about the internal implementation details of other components.\n",
        "  * Each class or module can be developed independently, and the interaction between objects is well-defined through methods.\n",
        "  * Example: One developer can work on the User class, while another works on the Order class in an e-commerce system, with clear interfaces to interact with each other.\n",
        "10. **Easier Debugging and Testing**\n",
        "  * Because OOP focuses on isolated objects, testing and debugging can be more straightforward. we can write tests for individual classes or methods in isolation (unit testing), which helps ensure that the components work correctly before integrating them into the full system.\n",
        "  * The encapsulation and abstraction provided by OOP also help isolate issues, making it easier to identify where errors occur.\n",
        "  * Example: Testing a class like DatabaseConnection can be done independently of other parts of the system, ensuring the connection functionality works as expected."
      ],
      "metadata": {
        "id": "dx92bjpjvna0"
      }
    },
    {
      "cell_type": "markdown",
      "source": [
        "##Q 17. What is the difference between a class variable and an instance variable?\n",
        "**Ans** - In Python, class variables and instance variables are two types of variables that are used to store data, but they differ in how they are defined and accessed.\n",
        "\n",
        "1. **Class Variable**\n",
        "  * Definition: A class variable is a variable that is defined within the class, but outside of any methods. It is shared by all instances (objects) of the class.\n",
        "  * Scope: The value of a class variable is shared across all instances of the class. Any changes made to the class variable through one instance will be reflected in all other instances unless they override the variable.\n",
        "  * Access: Class variables can be accessed using the class name or any instance of the class.\n",
        "  * Usage: Class variables are used when the data should be shared among all instances of the class, such as constants or counters that apply to all instances of the class.\n",
        "\n",
        "Example:"
      ],
      "metadata": {
        "id": "sNxJ0pWYwU0u"
      }
    },
    {
      "cell_type": "code",
      "source": [
        "class Dog:\n",
        "    species = \"Canis familiaris\"\n",
        "    def __init__(self, name):\n",
        "        self.name = name\n",
        "print(Dog.species)\n",
        "dog1 = Dog(\"Buddy\")\n",
        "dog2 = Dog(\"Bella\")\n",
        "print(dog1.species)\n",
        "print(dog2.species)\n",
        "Dog.species = \"Canis lupus familiaris\"\n",
        "print(dog1.species)\n",
        "print(dog2.species)"
      ],
      "metadata": {
        "id": "cvOmfI3qkhm4"
      },
      "execution_count": null,
      "outputs": []
    },
    {
      "cell_type": "markdown",
      "source": [
        "2. **Instance Variable**\n",
        "  * Definition: An instance variable is a variable that is defined within the __ init __() method using self. It is specific to each instance of the class.\n",
        "  * Scope: The value of an instance variable is unique to each instance. Each object (instance) of the class has its own copy of the instance variable.\n",
        "  * Access: Instance variables can only be accessed using an instance of the class, not the class itself.\n",
        "  * Usage: Instance variables are used when the data is specific to each object and should not be shared between instances.\n",
        "\n",
        "Example:"
      ],
      "metadata": {
        "id": "EouPt1GFkoJg"
      }
    },
    {
      "cell_type": "code",
      "source": [
        "class Dog:\n",
        "    def __init__(self, name):\n",
        "        self.name = name\n",
        "dog1 = Dog(\"Buddy\")\n",
        "dog2 = Dog(\"Bella\")\n",
        "print(dog1.name)\n",
        "print(dog2.name)\n",
        "dog1.name = \"Max\"\n",
        "print(dog1.name)\n",
        "print(dog2.name)"
      ],
      "metadata": {
        "id": "YtLUZyKbk52o"
      },
      "execution_count": null,
      "outputs": []
    },
    {
      "cell_type": "markdown",
      "source": [
        "**Differences Between Class Variables and Instance Variables**\n",
        "\n",
        "|Feature\t|Class Variable\t|Instance Variable|\n",
        "|----|----|----|\n",
        "|Definition\t|Defined within the class, outside any methods.\t|Defined inside methods, usually inside __ init __().|\n",
        "|Scope\t|Shared by all instances of the class.\t|Unique to each instance (object).|\n",
        "|Access\t|Can be accessed via the class name or instance objects.\t|Can only be accessed via an instance object.|\n",
        "|Usage\t|Used for data shared across all instances (e.g., constants, counters).\t|Used for data specific to each instance (e.g., object-specific properties).|\n",
        "|Modification\t|Modifying the class variable affects all instances unless overridden.\t|Modifying an instance variable affects only that specific instance.|\n",
        "|Example\t|class Dog: species = \"Canis familiaris\".\t|class Dog: def __ init __(self, name): self.name = name|"
      ],
      "metadata": {
        "id": "R86K3QbZk644"
      }
    },
    {
      "cell_type": "markdown",
      "source": [
        "##Q 18. What is multiple inheritance?\n",
        "**Ans** - Multiple inheritance in Python refers to a feature where a class can inherit attributes and methods from more than one parent class. This allows a class to inherit functionality from multiple classes, enabling greater flexibility and reusability of code.\n",
        "\n",
        "In Python, a class can inherit from multiple base classes by listing them in the class definition, separated by commas. The derived class then has access to the methods and attributes of all its parent classes.\n",
        "\n",
        "**Syntax of Multiple Inheritance:**"
      ],
      "metadata": {
        "id": "08V5dXxNwggY"
      }
    },
    {
      "cell_type": "code",
      "source": [
        "class ParentClass1:\n",
        "    def method1(self):\n",
        "        print(\"Method from ParentClass1\")\n",
        "class ParentClass2:\n",
        "    def method2(self):\n",
        "        print(\"Method from ParentClass2\")\n",
        "class ChildClass(ParentClass1, ParentClass2):\n",
        "    pass"
      ],
      "metadata": {
        "id": "nmhVrAr8iLut"
      },
      "execution_count": null,
      "outputs": []
    },
    {
      "cell_type": "markdown",
      "source": [
        "**Example of Multiple Inheritance in Python:**"
      ],
      "metadata": {
        "id": "gDq0FEpBiMzP"
      }
    },
    {
      "cell_type": "code",
      "source": [
        "class Animal:\n",
        "    def speak(self):\n",
        "        print(\"Animal makes a sound\")\n",
        "class Mammal:\n",
        "    def walk(self):\n",
        "        print(\"Mammal walks on land\")\n",
        "class Dog(Animal, Mammal):\n",
        "    def bark(self):\n",
        "        print(\"Dog barks\")\n",
        "dog = Dog()\n",
        "dog.speak()\n",
        "dog.walk()\n",
        "dog.bark()"
      ],
      "metadata": {
        "id": "MOrYcNoKiiq8"
      },
      "execution_count": null,
      "outputs": []
    },
    {
      "cell_type": "markdown",
      "source": [
        "**Advantages of Multiple Inheritance:**\n",
        "1. Reusability: You can reuse the code from multiple classes without having to duplicate it.\n",
        "2. Flexibility: It allows you to combine functionality from multiple sources, enabling more complex behaviors in derived classes.\n",
        "3. Organization: You can create logically distinct base classes, and combine them as needed in derived classes.\n",
        "\n",
        "**Method Resolution Order (MRO)**\n",
        "\n",
        "In Python, when a class inherits from multiple classes, the order in which methods are inherited can become important, especially if different base classes have methods with the same name. The Method Resolution Order (MRO) defines the order in which Python looks for a method or attribute in the class hierarchy.\n",
        "\n",
        "Python uses the C3 Linearization algorithm to determine the MRO, which ensures that the base classes are checked in a consistent and predictable order.\n",
        "\n",
        "**Diamond Problem in Multiple Inheritance**\n",
        "\n",
        "The diamond problem occurs in multiple inheritance when two parent classes inherit from the same grandparent class. This creates ambiguity about which parent class’s method should be called when the child class accesses it. Python solves this problem using the C3 linearization algorithm, which defines a clear method resolution order.\n",
        "\n",
        "Example of Diamond Problem:"
      ],
      "metadata": {
        "id": "7A2oHfADixu2"
      }
    },
    {
      "cell_type": "code",
      "source": [
        "class A:\n",
        "    def greet(self):\n",
        "        print(\"Hello from class A\")\n",
        "class B(A):\n",
        "    def greet(self):\n",
        "        print(\"Hello from class B\")\n",
        "class C(A):\n",
        "    def greet(self):\n",
        "        print(\"Hello from class C\")\n",
        "class D(B, C):\n",
        "    pass\n",
        "d = D()\n",
        "d.greet()"
      ],
      "metadata": {
        "id": "J1rLBLbqjm9W"
      },
      "execution_count": null,
      "outputs": []
    },
    {
      "cell_type": "markdown",
      "source": [
        "##Q 19.Explain the purpose of ‘’ __ str __ ’ and ‘ __ repr __ ’ ‘ methods.\n",
        "**Ans** - In Python, the __ str __ and __ repr __ methods are special or \"dunder\" methods used to define how objects of a class should be represented as strings. They are both part of Python's string representation protocol, but they serve different purposes and are intended for different audiences.\n",
        "\n",
        "1.** __ str __ Method:**\n",
        "  * Purpose: The __str__ method is used to define the \"informal\" or \"user-friendly\" string representation of an object. This string representation is meant to be human-readable and typically used when you want to display or print the object.\n",
        "  * Usage: It's commonly used when you print an object using the print() function or use str() to convert an object to a string.\n",
        "  * Return Value: It should return a string that provides a readable, user-friendly description of the object.\n",
        "\n",
        "Example of __ str __:"
      ],
      "metadata": {
        "id": "XFm7amN1wttL"
      }
    },
    {
      "cell_type": "code",
      "source": [
        "class Dog:\n",
        "    def __init__(self, name, age):\n",
        "        self.name = name\n",
        "        self.age = age\n",
        "    def __str__(self):\n",
        "        return f\"{self.name} is {self.age} years old\"\n",
        "dog = Dog(\"Buddy\", 5)\n",
        "print(dog)"
      ],
      "metadata": {
        "id": "hgVin6JGf9rh"
      },
      "execution_count": null,
      "outputs": []
    },
    {
      "cell_type": "markdown",
      "source": [
        "2. **__ repr __ Method:**\n",
        "  * Purpose: The __ repr __ method is used to define the \"official\" string representation of an object, which is primarily aimed at developers and should provide a detailed and unambiguous description of the object. The goal is for the string returned by __ repr __ to be a valid Python expression that can ideally be used to recreate the object.\n",
        "  * Usage: It is used in situations where you need a more detailed, precise, or technical representation of an object. The __ repr __ method is called by the repr() function or when inspecting objects in the interactive interpreter or debugging tools.\n",
        "  * Return Value: It should return a string that represents the object in such a way that eval(repr(obj)) (if it's safe and meaningful) could recreate the object.\n",
        "  \n",
        "Example of __ repr __:"
      ],
      "metadata": {
        "id": "bmqVI0mrgFOa"
      }
    },
    {
      "cell_type": "code",
      "source": [
        "class Dog:\n",
        "    def __init__(self, name, age):\n",
        "        self.name = name\n",
        "        self.age = age\n",
        "    def __repr__(self):\n",
        "        return f\"Dog('{self.name}', {self.age})\"\n",
        "dog = Dog(\"Buddy\", 5)\n",
        "print(repr(dog))\n",
        "dog"
      ],
      "metadata": {
        "id": "9QcH2Cr0gx_T"
      },
      "execution_count": null,
      "outputs": []
    },
    {
      "cell_type": "markdown",
      "source": [
        "**Differences Between __ str __ and __ repr __:**\n",
        "\n",
        "|Feature\t|__ str __ |__ repr __|\n",
        "|----|----|----|\n",
        "|Purpose\t|Used for informal or user-friendly string representation.\t|Used for the official, detailed string representation aimed at developers.|\n",
        "|Audience\t|End-users or casual display.\t|Developers, debugging, and logging.|\n",
        "|Primary |Use\tCalled by print() and str().\t|Called by repr(), or when inspecting objects in the interpreter or debugging.|\n",
        "|String Output\t|A concise and readable string.\t|A more formal, often technical string (often designed to be a valid Python expression).|\n",
        "|Default Behavior\t|If not implemented, __ str __ will default to using __ repr __.\t|If not implemented, __ repr __ will default to the default object representation (e.g., <__ main __.Dog object at 0x...>).|"
      ],
      "metadata": {
        "id": "knLCflD4gy9C"
      }
    },
    {
      "cell_type": "markdown",
      "source": [
        "##Q 20. What is the significance of the ‘super()’ function?\n",
        "**Ans** - The super() function in Python is a built-in function that allows us to call methods from a parent (or superclass) class in a subclass. It is primarily used in the context of inheritance to access or extend the functionality of the parent class without directly referring to the parent class name. This is particularly useful when working with multiple inheritance, where it helps resolve method resolution order (MRO) and ensures that the correct method is called from the appropriate class.\n",
        "\n",
        "**Purpose of super()**\n",
        "1. Calling parent class methods: It provides a way to call methods of a parent class without explicitly naming the parent class. This makes the code more maintainable and easier to change if the class hierarchy changes.\n",
        "2. Method Overriding: When a method in a subclass overrides a method from its parent, super() can be used to call the parent class's method, allowing the subclass to extend or modify the behavior of the parent class method.\n",
        "3. Support for Multiple Inheritance: In case of multiple inheritance, super() ensures that the method resolution order (MRO) is respected and that the correct method is called from the correct class in the inheritance chain.\n",
        "\n",
        "**Advantages of Using super():**\n",
        "1. Maintainability: If you change the class name or inheritance structure, you don’t need to modify references to the parent class inside the subclass methods.\n",
        "2. Code Reusability: It allows code in the parent class to be reused in the child class without having to rewrite or duplicate logic.\n",
        "3. Supports Multiple Inheritance: In cases of multiple inheritance, super() ensures that the correct method is called based on the MRO, avoiding the need to manually manage the inheritance hierarchy."
      ],
      "metadata": {
        "id": "R9G63OTzw-1G"
      }
    },
    {
      "cell_type": "markdown",
      "source": [
        "##Q 21. What is the significance of the __ del __ method?\n",
        "**Ans** - The __ del __ method in Python is a special method used to define the destructor behavior for an object when it is about to be destroyed or deallocated. It is invoked when the object’s reference count reaches zero and the garbage collector is about to reclaim the object’s memory.\n",
        "\n",
        "**Purpose of __ del __:**\n",
        "1. Resource Cleanup: The primary purpose of the __ del __ method is to allow an object to release any resources or perform necessary cleanup before it is destroyed. This is especially important for objects that manage external resources, such as file handles, database connections, or network sockets.\n",
        "2. Custom Object Destruction: You can use __ del __ to define custom behavior when an object is about to be destroyed, such as printing a message, logging, or notifying other components of the system.\n",
        "**Syntax of __ del __:**"
      ],
      "metadata": {
        "id": "uLfeyx_MxSig"
      }
    },
    {
      "cell_type": "code",
      "source": [
        "class MyClass:\n",
        "    def __del__(self):\n",
        "        print(\"Object is being destroyed\")"
      ],
      "metadata": {
        "id": "RZjOKBLaY-yn"
      },
      "execution_count": null,
      "outputs": []
    },
    {
      "cell_type": "markdown",
      "source": [
        "**Example of __ del __ in Action:**"
      ],
      "metadata": {
        "id": "JkKYa9yHZKSo"
      }
    },
    {
      "cell_type": "code",
      "source": [
        "class MyClass:\n",
        "    def __init__(self, name):\n",
        "        self.name = name\n",
        "        print(f\"Object {self.name} created\")\n",
        "    def __del__(self):\n",
        "        print(f\"Object {self.name} is being destroyed\")\n",
        "obj = MyClass(\"Example\")\n",
        "del obj"
      ],
      "metadata": {
        "id": "4uwS6XntZIgf"
      },
      "execution_count": null,
      "outputs": []
    },
    {
      "cell_type": "markdown",
      "source": [
        "* The __ del __ method prints a message when the object is about to be destroyed. The del obj statement deletes the reference to the object, which triggers the __ del __ method, and the object is destroyed.\n",
        "\n",
        "**The __ del __ Method Works:**\n",
        "\n",
        "* The __ del __ method is automatically called when an object’s reference count becomes zero, i.e., when no other references to the object exist, and the garbage collector is about to reclaim the memory.\n",
        "* The method is called when you explicitly delete the object using del or when it goes out of scope and the garbage collector collects it.\n",
        "\n",
        "**Important Points to Consider:**\n",
        "1. Unpredictable Timing:\n",
        "  * The __ del __ method is called by the garbage collector, but you cannot predict exactly when it will be invoked. It happens when the object is no longer referenced and the garbage collector decides to reclaim memory.\n",
        "  * This makes it difficult to rely on __ del __ for crucial resource cleanup in situations where you need immediate deallocation.\n",
        "2. Cyclic References:\n",
        "  * Python's garbage collector uses reference counting and a cycle detector to handle cyclic references. However, the __ del __ method cannot always be called in the presence of circular references, as it might prevent the garbage collector from breaking the cycle.\n",
        "  * To handle such cases, it's better to use context managers (with the with statement) or explicitly manage resource cleanup.\n",
        "\n",
        "3. **No __ del __ in the __ exit __ Method:**\n",
        "  * The __ del __ method is not called in cases where an object is used in a with statement (context manager). Instead, the __ exit __ method of the context manager is used for cleanup.\n",
        "4. Avoid Resource Leaks:\n",
        "  * While __ del __ can be used to clean up resources, relying on it can lead to resource leaks if the garbage collection process is delayed. It’s generally better to use explicit resource management techniques, such as context managers, that ensure resources are released when they are no longer needed.\n",
        "\n",
        "**Example of Resource Cleanup with __ del __:**\n",
        "\n",
        "Here’s an example where the __ del __ method is used to close a file handle when the object is destroyed:"
      ],
      "metadata": {
        "id": "HGHX47u0Zhi4"
      }
    },
    {
      "cell_type": "code",
      "source": [
        "class FileHandler:\n",
        "    def __init__(self, filename):\n",
        "        self.filename = filename\n",
        "        self.file = open(filename, 'w')\n",
        "        print(f\"File {self.filename} opened\")\n",
        "    def write(self, text):\n",
        "        self.file.write(text)\n",
        "    def __del__(self):\n",
        "        self.file.close()\n",
        "        print(f\"File {self.filename} closed\")\n",
        "file_obj = FileHandler(\"example.txt\")\n",
        "file_obj.write(\"Hello, world!\")\n",
        "del file_obj"
      ],
      "metadata": {
        "id": "JHtaUYjJbFrE"
      },
      "execution_count": null,
      "outputs": []
    },
    {
      "cell_type": "code",
      "source": [
        "class FileHandler:\n",
        "    def __init__(self, filename):\n",
        "        self.filename = filename\n",
        "    def __enter__(self):\n",
        "        self.file = open(self.filename, 'w')\n",
        "        return self.file\n",
        "    def __exit__(self, exc_type, exc_val, exc_tb):\n",
        "        self.file.close()\n",
        "        print(f\"File {self.filename} closed\")\n",
        "with FileHandler(\"example.txt\") as file:\n",
        "    file.write(\"Hello, world!\")"
      ],
      "metadata": {
        "id": "-sAZTgAqbxDr"
      },
      "execution_count": null,
      "outputs": []
    },
    {
      "cell_type": "markdown",
      "source": [
        "**Conclusion:**\n",
        "* The _ _ del _ _ method allows for custom object destruction and resource cleanup, but it should be used with caution due to the unpredictability of when it will be called.\n",
        "* It is often better to use context managers for resource cleanup, as they offer more control over when resources are acquired and released.\n",
        "* Relying on _ _ del _ _ for critical resource management, especially in the presence of circular references, can lead to potential issues like resource leaks."
      ],
      "metadata": {
        "id": "MxY6hhQob15k"
      }
    },
    {
      "cell_type": "markdown",
      "source": [
        "##Q 22. What is the difference between @staticmethod and @classmethod in Python?\n",
        "**Ans** - In Python, @staticmethod and @classmethod are both used to define methods that are associated with a class rather than with an instance of the class. However, they have different purposes and behavior. Below are the key differences:\n",
        "1. @staticmethod:\n",
        "  * Purpose: The @staticmethod decorator is used to define a method that does not operate on an instance or class but is logically related to the class. A static method doesn't take self or cls as its first argument.\n",
        "  * Usage: It is typically used for utility functions that perform operations in a class context but do not need access to any instance or class-specific data.\n",
        "  * Access: Static methods can be called on the class itself or on instances of the class, but they do not have access to instance (self) or class (cls) attributes.\n",
        "\n",
        "**Syntax of @staticmethod:**"
      ],
      "metadata": {
        "id": "7Eg2c4YryLNL"
      }
    },
    {
      "cell_type": "code",
      "source": [
        "class MyClass:\n",
        "    @staticmethod\n",
        "    def my_method(arg1, arg2):\n",
        "        print(arg1, arg2)\n",
        "MyClass.my_method(10, 20)\n",
        "obj = MyClass()\n",
        "obj.my_method(30, 40)"
      ],
      "metadata": {
        "id": "xnaqt5oZXQDU"
      },
      "execution_count": null,
      "outputs": []
    },
    {
      "cell_type": "markdown",
      "source": [
        "2. **@classmethod:**\n",
        "  * Purpose: The @classmethod decorator is used to define a method that is bound to the class, not the instance. It takes the class itself (cls) as its first argument, allowing it to access or modify class attributes.\n",
        "  * Usage: It is typically used when a method needs to operate on or modify class-level attributes or when creating factory methods that return instances of the class.\n",
        "  * Access: Class methods can access and modify class attributes and can be called on the class itself or on instances of the class.\n",
        "\n",
        "**Syntax of @classmethod:**"
      ],
      "metadata": {
        "id": "aJZKEJ1bXSTu"
      }
    },
    {
      "cell_type": "code",
      "source": [
        "class MyClass:\n",
        "    class_variable = 0\n",
        "    @classmethod\n",
        "    def set_class_variable(cls, value):\n",
        "        cls.class_variable = value\n",
        "        print(f\"Class variable set to {cls.class_variable}\")\n",
        "MyClass.set_class_variable(100)\n",
        "obj = MyClass()\n",
        "obj.set_class_variable(200)"
      ],
      "metadata": {
        "id": "VN8ejEIuX0wM"
      },
      "execution_count": null,
      "outputs": []
    },
    {
      "cell_type": "markdown",
      "source": [
        "**Differences between @staticmethod and @classmethod:**\n",
        "\n",
        "|Feature\t|@staticmethod\t|@classmethod|\n",
        "|----|----|----|\n",
        "|First argument\t|No special first argument (no self or cls).\t|Takes cls (the class) as its first argument.|\n",
        "|Access to instance\t|Cannot access or modify instance or class attributes.\t|Can access and modify class attributes.|\n",
        "|Purpose\t|Used for utility functions or helper methods that do not need access to class or instance data.\t|Used to operate on class-level data or to create factory methods.|\n",
        "|Calling\t|Can be called on the class or instance.\t|Can be called on the class or instance.|"
      ],
      "metadata": {
        "id": "leuVbX4qX5fE"
      }
    },
    {
      "cell_type": "markdown",
      "source": [
        "##Q 23. How does polymorphism work in Python with inheritance?\n",
        "**Ans** - Polymorphism in Python, particularly in the context of inheritance, allows objects of different classes to be treated as objects of a common parent class. This is a cornerstone of object-oriented programming and facilitates writing flexible and reusable code.\n",
        "\n",
        "polymorphism works in Python with inheritance as:\n",
        "\n",
        "1. **Polymorphism via Method Overriding**\n",
        "* When a child class provides a specific implementation of a method that is already defined in its parent class, this is known as method overriding. The child class method will be called when accessed through an instance of the child class, even if the reference is of the parent class."
      ],
      "metadata": {
        "id": "Aib6GMRwybFb"
      }
    },
    {
      "cell_type": "code",
      "source": [
        "class Animal:\n",
        "    def sound(self):\n",
        "        return \"Some generic sound\"\n",
        "class Dog(Animal):\n",
        "    def sound(self):\n",
        "        return \"Bark\"\n",
        "class Cat(Animal):\n",
        "    def sound(self):\n",
        "        return \"Meow\"\n",
        "animals = [Dog(), Cat(), Animal()]\n",
        "for animal in animals:\n",
        "    print(animal.sound())"
      ],
      "metadata": {
        "id": "QErQ7ViL2oPZ"
      },
      "execution_count": null,
      "outputs": []
    },
    {
      "cell_type": "markdown",
      "source": [
        "2. **Polymorphism with Abstract Base Classes (ABCs)**\n",
        "* Using abstract base classes ensures that child classes must implement certain methods, making them polymorphic. This approach is common when designing more formal class hierarchies."
      ],
      "metadata": {
        "id": "R_XIhv9k2xs7"
      }
    },
    {
      "cell_type": "code",
      "source": [
        "from abc import ABC, abstractmethod\n",
        "class Animal(ABC):\n",
        "    @abstractmethod\n",
        "    def sound(self):\n",
        "        pass\n",
        "class Dog(Animal):\n",
        "    def sound(self):\n",
        "        return \"Bark\"\n",
        "class Cat(Animal):\n",
        "    def sound(self):\n",
        "        return \"Meow\"\n",
        "animals = [Dog(), Cat()]\n",
        "for animal in animals:\n",
        "    print(animal.sound())"
      ],
      "metadata": {
        "id": "XNlwuGon2zQp"
      },
      "execution_count": null,
      "outputs": []
    },
    {
      "cell_type": "markdown",
      "source": [
        "3. **Polymorphism in Functions and Methods**\n",
        "* Polymorphism can also be observed when functions or methods accept objects of different classes and invoke the appropriate methods without knowing their specific class types."
      ],
      "metadata": {
        "id": "rUD3s2DI2_Bt"
      }
    },
    {
      "cell_type": "code",
      "source": [
        "def make_sound(animal):\n",
        "    print(animal.sound())\n",
        "make_sound(Dog())\n",
        "make_sound(Cat())"
      ],
      "metadata": {
        "id": "E-HsYCAx3CKE"
      },
      "execution_count": null,
      "outputs": []
    },
    {
      "cell_type": "markdown",
      "source": [
        "4. **Polymorphism with Operator Overloading**\n",
        "* Polymorphism in Python also extends to operator overloading using special methods like __ add __, __ sub __, etc."
      ],
      "metadata": {
        "id": "deNWk2Eb3FwC"
      }
    },
    {
      "cell_type": "code",
      "source": [
        "class Shape:\n",
        "    def __init__(self, sides):\n",
        "        self.sides = sides\n",
        "    def __add__(self, other):\n",
        "        return self.sides + other.sides\n",
        "square = Shape(4)\n",
        "triangle = Shape(3)\n",
        "print(square + triangle)"
      ],
      "metadata": {
        "id": "sVJX0-CZ3GfU"
      },
      "execution_count": null,
      "outputs": []
    },
    {
      "cell_type": "markdown",
      "source": [
        "##Q 24. What is method chaining in Python OOP?\n",
        "**Ans** - Method chaining in Python is a technique where multiple method calls are made on the same object in a single line of code. This is possible because each method returns the object itself that allows subsequent method calls to be chained together.\n",
        "\n",
        "**Method Chaining Works:**\n",
        "\n",
        "For method chaining to work, the methods need to return the object (typically self), allowing further method calls to be made on the same object. This approach is commonly used for setting multiple attributes or performing operations in a fluent and readable way.\n",
        "\n",
        "**Example of Method Chaining:**"
      ],
      "metadata": {
        "id": "lPXYD-UIyxcR"
      }
    },
    {
      "cell_type": "code",
      "source": [
        "class Calculator:\n",
        "    def __init__(self, value=0):\n",
        "        self.value = value\n",
        "    def add(self, x):\n",
        "        self.value += x\n",
        "        return self\n",
        "    def subtract(self, x):\n",
        "        self.value -= x\n",
        "        return self\n",
        "    def multiply(self, x):\n",
        "        self.value *= x\n",
        "        return self\n",
        "    def get_value(self):\n",
        "        return self.value\n",
        "calc = Calculator()\n",
        "result = calc.add(10).subtract(3).multiply(2).get_value()\n",
        "print(result)"
      ],
      "metadata": {
        "id": "NyqFwvkfTbCH"
      },
      "execution_count": null,
      "outputs": []
    },
    {
      "cell_type": "markdown",
      "source": [
        "**Advantages of Method Chaining:**\n",
        "\n",
        "1. Improved Readability: It allows for a more readable and concise code. Instead of calling methods on separate lines, method chaining allows you to express multiple operations in a single line.\n",
        "2. Fluent Interface: It enables a fluent interface, making the code look more natural and intuitive.\n",
        "3. Compactness: It reduces the amount of code written and the number of intermediate variables needed.\n",
        "\n",
        "**Example with Attribute Setting:**"
      ],
      "metadata": {
        "id": "04hL8b6XTdPv"
      }
    },
    {
      "cell_type": "code",
      "source": [
        "class Person:\n",
        "    def __init__(self, name, age):\n",
        "        self.name = name\n",
        "        self.age = age\n",
        "    def set_name(self, name):\n",
        "        self.name = name\n",
        "        return self\n",
        "    def set_age(self, age):\n",
        "        self.age = age\n",
        "        return self\n",
        "    def get_info(self):\n",
        "        return f\"Name: {self.name}, Age: {self.age}\"\n",
        "person = Person(\"John\", 30)\n",
        "print(person.set_name(\"Alice\").set_age(25).get_info())"
      ],
      "metadata": {
        "id": "3Kq_RahgUWUw"
      },
      "execution_count": null,
      "outputs": []
    },
    {
      "cell_type": "markdown",
      "source": [
        "##Q 25. What is the purpose of the __ call __ method?\n",
        "**Ans** - The __ call __ () method in Python is a special or dunder method that allows an instance of a class to be called like a function. In other words, it makes an object \"callable,\" so we can use the syntax object() as if the object itself were a function.\n",
        "When the __ call __ () method is defined in a class, an instance of that class behaves like a function, and we can invoke it directly using parentheses, passing arguments just like you would with a regular function.\n",
        "\n",
        "**Purpose of __ call __ () Method:**\n",
        "* Make Objects Callable: The main purpose of the __ call __ () method is to allow an object to be called like a function. This can be useful in scenarios where you want to encapsulate behavior inside an object and still allow it to be invoked as a function.\n",
        "* Customizing Behavior: By defining __ call __ (), you can customize how an object behaves when it is called, including accepting arguments, modifying state, and returning values.\n",
        "* Simulating Functions: The __ call __() method can be used to simulate function-like behavior for objects, enabling them to have the flexibility of functions but with the added features of object-oriented programming (such as state and attributes)."
      ],
      "metadata": {
        "id": "ExtPrRfSy9Rh"
      }
    },
    {
      "cell_type": "markdown",
      "source": [
        "# Practical Questions"
      ],
      "metadata": {
        "id": "4EYU_WDyzhVC"
      }
    },
    {
      "cell_type": "markdown",
      "source": [
        "##Q 1. Create a parent class Animal with a method speak() that prints a generic message. Create a child class Dog that overrides the speak() method to print \"Bark!\"."
      ],
      "metadata": {
        "id": "BzXWOTL1znGh"
      }
    },
    {
      "cell_type": "code",
      "source": [
        "class Animal:\n",
        "    def speak(self):\n",
        "        print(\"The animal makes a sound.\")\n",
        "class Dog(Animal):\n",
        "    def speak(self):\n",
        "        print(\"Bark!\")\n",
        "generic_animal = Animal()\n",
        "generic_animal.speak()\n",
        "dog = Dog()\n",
        "dog.speak()"
      ],
      "metadata": {
        "id": "BznsdvgJHEZ5"
      },
      "execution_count": null,
      "outputs": []
    },
    {
      "cell_type": "markdown",
      "source": [
        "##Q 2. Write a program to create an abstract class Shape with a method area(). Derive classes Circle and Rectangle from it and implement the area() method in both."
      ],
      "metadata": {
        "id": "80TQeqOZHLJS"
      }
    },
    {
      "cell_type": "code",
      "source": [
        "from abc import ABC, abstractmethod\n",
        "import math\n",
        "class Shape(ABC):\n",
        "    @abstractmethod\n",
        "    def area(self):\n",
        "        pass\n",
        "class Circle(Shape):\n",
        "    def __init__(self, radius):\n",
        "        self.radius = radius\n",
        "    def area(self):\n",
        "        return math.pi * self.radius**2\n",
        "class Rectangle(Shape):\n",
        "    def __init__(self, length, width):\n",
        "        self.length = length\n",
        "        self.width = width\n",
        "    def area(self):\n",
        "        return self.length * self.width\n",
        "circle = Circle(5)\n",
        "rectangle = Rectangle(4, 6)\n",
        "print(f\"Area of the circle: {circle.area():.2f}\")\n",
        "print(f\"Area of the rectangle: {rectangle.area()}\")"
      ],
      "metadata": {
        "id": "AsmqDHlrHQgx"
      },
      "execution_count": null,
      "outputs": []
    },
    {
      "cell_type": "markdown",
      "source": [
        "##Q 3. Implement a multi-level inheritance scenario where a class Vehicle has an attribute type. Derive a class Car and further derive a class ElectricCar that adds a battery attribute."
      ],
      "metadata": {
        "id": "XBnhHMhaHVRp"
      }
    },
    {
      "cell_type": "code",
      "source": [
        "class Vehicle:\n",
        "    def __init__(self, vehicle_type):\n",
        "        self.vehicle_type = vehicle_type\n",
        "    def display_type(self):\n",
        "        print(f\"Vehicle type: {self.vehicle_type}\")\n",
        "class Car(Vehicle):\n",
        "    def __init__(self, vehicle_type, brand, model):\n",
        "        super().__init__(vehicle_type)\n",
        "        self.brand = brand\n",
        "        self.model = model\n",
        "    def display_car_details(self):\n",
        "        print(f\"Car brand: {self.brand}, Model: {self.model}\")\n",
        "class ElectricCar(Car):\n",
        "    def __init__(self, vehicle_type, brand, model, battery_capacity):\n",
        "        super().__init__(vehicle_type, brand, model)\n",
        "        self.battery_capacity = battery_capacity\n",
        "    def display_battery_details(self):\n",
        "        print(f\"Battery capacity: {self.battery_capacity} kWh\")\n",
        "vehicle = Vehicle(\"General\")\n",
        "vehicle.display_type()\n",
        "car = Car(\"Car\", \"Toyota\", \"Camry\")\n",
        "car.display_type()\n",
        "car.display_car_details()\n",
        "electric_car = ElectricCar(\"Electric Car\", \"Tesla\", \"Model S\", 100)\n",
        "electric_car.display_type()\n",
        "electric_car.display_car_details()\n",
        "electric_car.display_battery_details()"
      ],
      "metadata": {
        "id": "aay_QubCHegr"
      },
      "execution_count": null,
      "outputs": []
    },
    {
      "cell_type": "markdown",
      "source": [
        "##Q 4. Implement a multi-level inheritance scenario where a class Vehicle has an attribute type. Derive a class Car and further derive a class ElectricCar that adds a battery attribute."
      ],
      "metadata": {
        "id": "cyiXDEZyH7q6"
      }
    },
    {
      "cell_type": "code",
      "source": [
        "class Vehicle:\n",
        "    def __init__(self, vehicle_type):\n",
        "        self.vehicle_type = vehicle_type\n",
        "    def display_type(self):\n",
        "        print(f\"Vehicle type: {self.vehicle_type}\")\n",
        "class Car(Vehicle):\n",
        "    def __init__(self, vehicle_type, brand, model):\n",
        "        super().__init__(vehicle_type)\n",
        "        self.brand = brand\n",
        "        self.model = model\n",
        "    def display_car_details(self):\n",
        "        print(f\"Car brand: {self.brand}, Model: {self.model}\")\n",
        "class ElectricCar(Car):\n",
        "    def __init__(self, vehicle_type, brand, model, battery_capacity):\n",
        "        super().__init__(vehicle_type, brand, model)\n",
        "        self.battery_capacity = battery_capacity\n",
        "    def display_battery_details(self):\n",
        "        print(f\"Battery capacity: {self.battery_capacity} kWh\")\n",
        "vehicle = Vehicle(\"General\")\n",
        "vehicle.display_type()\n",
        "car = Car(\"Car\", \"Toyota\", \"Camry\")\n",
        "car.display_type()\n",
        "car.display_car_details()\n",
        "electric_car = ElectricCar(\"Electric Car\", \"Tesla\", \"Model S\", 100)\n",
        "electric_car.display_type()\n",
        "electric_car.display_car_details()\n",
        "electric_car.display_battery_details()"
      ],
      "metadata": {
        "id": "9jxughJcILVq"
      },
      "execution_count": null,
      "outputs": []
    },
    {
      "cell_type": "markdown",
      "source": [
        "##Q 5. Write a program to demonstrate encapsulation by creating a class BankAccount with private attributes balance and methods to deposit, withdraw, and check balance."
      ],
      "metadata": {
        "id": "AyWuSvkMITbD"
      }
    },
    {
      "cell_type": "code",
      "source": [
        "class BankAccount:\n",
        "    def __init__(self, initial_balance=0):\n",
        "        self.__balance = initial_balance\n",
        "    def deposit(self, amount):\n",
        "        if amount > 0:\n",
        "            self.__balance += amount\n",
        "            print(f\"Deposited: ${amount}\")\n",
        "        else:\n",
        "            print(\"Deposit amount must be positive.\")\n",
        "    def withdraw(self, amount):\n",
        "        if 0 < amount <= self.__balance:\n",
        "            self.__balance -= amount\n",
        "            print(f\"Withdrawn: ${amount}\")\n",
        "        elif amount > self.__balance:\n",
        "            print(\"Insufficient balance.\")\n",
        "        else:\n",
        "            print(\"Withdrawal amount must be positive.\")\n",
        "    def check_balance(self):\n",
        "        print(f\"Current balance: ${self.__balance}\")\n",
        "account = BankAccount(100)\n",
        "account.check_balance()\n",
        "account.deposit(50)\n",
        "account.check_balance()\n",
        "account.withdraw(30)\n",
        "account.check_balance()\n",
        "account.withdraw(200)"
      ],
      "metadata": {
        "id": "jNgQvIQNIdv7"
      },
      "execution_count": null,
      "outputs": []
    },
    {
      "cell_type": "markdown",
      "source": [
        "##Q 6. Demonstrate runtime polymorphism using a method play() in a base class Instrument. Derive classes Guitar and Piano that implement their own version of play()."
      ],
      "metadata": {
        "id": "lZ62hdmXImGT"
      }
    },
    {
      "cell_type": "code",
      "source": [
        "class Instrument:\n",
        "    def play(self):\n",
        "        raise NotImplementedError(\"Subclasses must implement the play method.\")\n",
        "class Guitar(Instrument):\n",
        "    def play(self):\n",
        "        print(\"Playing the guitar: Strum, strum!\")\n",
        "class Piano(Instrument):\n",
        "    def play(self):\n",
        "        print(\"Playing the piano: Ting, ting!\")\n",
        "def play_instrument(instrument):\n",
        "    instrument.play()\n",
        "guitar = Guitar()\n",
        "piano = Piano()\n",
        "play_instrument(guitar)\n",
        "play_instrument(piano)"
      ],
      "metadata": {
        "id": "FtA4cBX1Ip1j"
      },
      "execution_count": null,
      "outputs": []
    },
    {
      "cell_type": "markdown",
      "source": [
        "##Q 7. Create a class MathOperations with a class method add_numbers() to add two numbers and a static method subtract_numbers() to subtract two numbers."
      ],
      "metadata": {
        "id": "ZpBpKif4IzWk"
      }
    },
    {
      "cell_type": "code",
      "source": [
        "class MathOperations:\n",
        "    @classmethod\n",
        "    def add_numbers(cls, a, b):\n",
        "        \"\"\"\n",
        "        Class method to add two numbers.\n",
        "        \"\"\"\n",
        "        return a + b\n",
        "    @staticmethod\n",
        "    def subtract_numbers(a, b):\n",
        "        \"\"\"\n",
        "        Static method to subtract two numbers.\n",
        "        \"\"\"\n",
        "        return a - b\n",
        "result_add = MathOperations.add_numbers(10, 5)\n",
        "print(f\"Addition Result: {result_add}\")\n",
        "result_subtract = MathOperations.subtract_numbers(10, 5)\n",
        "print(f\"Subtraction Result: {result_subtract}\")"
      ],
      "metadata": {
        "id": "yYB6hu5rI3QD"
      },
      "execution_count": null,
      "outputs": []
    },
    {
      "cell_type": "markdown",
      "source": [
        "##Q 8. Implement a class Person with a class method to count the total number of persons created."
      ],
      "metadata": {
        "id": "ZhSzMxbcI8Yj"
      }
    },
    {
      "cell_type": "code",
      "source": [
        "class Person:\n",
        "    total_persons = 0\n",
        "    def __init__(self, name, age):\n",
        "        self.name = name\n",
        "        self.age = age\n",
        "        Person.increment_count()\n",
        "    @classmethod\n",
        "    def increment_count(cls):\n",
        "        \"\"\"\n",
        "        Class method to increment the total_persons count.\n",
        "        \"\"\"\n",
        "        cls.total_persons += 1\n",
        "\n",
        "    @classmethod\n",
        "    def get_total_persons(cls):\n",
        "        \"\"\"\n",
        "        Class method to get the total number of persons created.\n",
        "        \"\"\"\n",
        "        return cls.total_persons\n",
        "person1 = Person(\"Alice\", 30)\n",
        "person2 = Person(\"Bob\", 25)\n",
        "person3 = Person(\"Charlie\", 35)\n",
        "print(f\"Total persons created: {Person.get_total_persons()}\")"
      ],
      "metadata": {
        "id": "OCo6ZZORJAU0"
      },
      "execution_count": null,
      "outputs": []
    },
    {
      "cell_type": "markdown",
      "source": [
        "##Q 9. Write a class Fraction with attributes numerator and denominator. Override the str method to display the fraction as \"numerator/denominator\""
      ],
      "metadata": {
        "id": "-DvttPr2JEBk"
      }
    },
    {
      "cell_type": "code",
      "source": [
        "class Fraction:\n",
        "    def __init__(self, numerator, denominator):\n",
        "        if denominator == 0:\n",
        "            raise ValueError(\"Denominator cannot be zero.\")\n",
        "        self.numerator = numerator\n",
        "        self.denominator = denominator\n",
        "    def __str__(self):\n",
        "        return f\"{self.numerator}/{self.denominator}\"\n",
        "fraction1 = Fraction(3, 4)\n",
        "print(fraction1)\n",
        "fraction2 = Fraction(5, 8)\n",
        "print(fraction2)"
      ],
      "metadata": {
        "id": "4Zz6LCoyJHiM"
      },
      "execution_count": null,
      "outputs": []
    },
    {
      "cell_type": "markdown",
      "source": [
        "##Q 10. Demonstrate operator overloading by creating a class Vector and overriding the add method to add two vectors."
      ],
      "metadata": {
        "id": "PdzzBIrXJKuW"
      }
    },
    {
      "cell_type": "code",
      "source": [
        "class Vector:\n",
        "    def __init__(self, x, y):\n",
        "        self.x = x\n",
        "        self.y = y\n",
        "    def __add__(self, other):\n",
        "        \"\"\"\n",
        "        Overloads the '+' operator to add two vectors.\n",
        "        \"\"\"\n",
        "        if isinstance(other, Vector):\n",
        "            return Vector(self.x + other.x, self.y + other.y)\n",
        "        raise TypeError(\"Operand must be an instance of Vector.\")\n",
        "    def __str__(self):\n",
        "        \"\"\"\n",
        "        Provides a string representation of the vector.\n",
        "        \"\"\"\n",
        "        return f\"({self.x}, {self.y})\"\n",
        "v1 = Vector(2, 3)\n",
        "v2 = Vector(4, 5)\n",
        "result = v1 + v2\n",
        "print(f\"Vector 1: {v1}\")\n",
        "print(f\"Vector 2: {v2}\")\n",
        "print(f\"Resultant Vector: {result}\")"
      ],
      "metadata": {
        "id": "VxkeLyuZJOWM"
      },
      "execution_count": null,
      "outputs": []
    },
    {
      "cell_type": "markdown",
      "source": [
        "##Q 11. Create a class Person with attributes name and age. Add a method greet() that prints \"Hello, my name is {name} and I am {age} years old."
      ],
      "metadata": {
        "id": "zkF18FjaJPgu"
      }
    },
    {
      "cell_type": "code",
      "source": [
        "class Person:\n",
        "    def __init__(self, name, age):\n",
        "        self.name = name\n",
        "        self.age = age\n",
        "    def greet(self):\n",
        "        print(f\"Hello, my name is {self.name} and I am {self.age} years old.\")\n",
        "person1 = Person(\"Alice\", 30)\n",
        "person1.greet()\n",
        "person2 = Person(\"Bob\", 25)\n",
        "person2.greet()"
      ],
      "metadata": {
        "id": "dhq6qjZ8JW7j"
      },
      "execution_count": null,
      "outputs": []
    },
    {
      "cell_type": "markdown",
      "source": [
        "##Q 12.  Implement a class Student with attributes name and grades. Create a method average_grade() to compute the average of the grades."
      ],
      "metadata": {
        "id": "NaOXiLTYJYUg"
      }
    },
    {
      "cell_type": "code",
      "source": [
        "class Student:\n",
        "    def __init__(self, name, grades):\n",
        "        self.name = name\n",
        "        self.grades = grades\n",
        "    def average_grade(self):\n",
        "        \"\"\"\n",
        "        Computes the average of the grades.\n",
        "        \"\"\"\n",
        "        if not self.grades:\n",
        "            return 0\n",
        "        return sum(self.grades) / len(self.grades)\n",
        "student1 = Student(\"Alice\", [85, 90, 78, 92])\n",
        "print(f\"{student1.name}'s average grade: {student1.average_grade():.2f}\")\n",
        "student2 = Student(\"Bob\", [])\n",
        "print(f\"{student2.name}'s average grade: {student2.average_grade():.2f}\")"
      ],
      "metadata": {
        "id": "nA1qhc-LJeSw"
      },
      "execution_count": null,
      "outputs": []
    },
    {
      "cell_type": "markdown",
      "source": [
        "##Q 13. Create a class Rectangle with methods set_dimensions() to set the dimensions and area() to calculate the area"
      ],
      "metadata": {
        "id": "ojjZRTL9JfVG"
      }
    },
    {
      "cell_type": "code",
      "source": [
        "class Rectangle:\n",
        "    def __init__(self):\n",
        "        self.length = 0\n",
        "        self.width = 0\n",
        "    def set_dimensions(self, length, width):\n",
        "        \"\"\"\n",
        "        Sets the dimensions of the rectangle.\n",
        "        \"\"\"\n",
        "        if length <= 0 or width <= 0:\n",
        "            raise ValueError(\"Length and width must be positive values.\")\n",
        "        self.length = length\n",
        "        self.width = width\n",
        "    def area(self):\n",
        "        \"\"\"\n",
        "        Calculates the area of the rectangle.\n",
        "        \"\"\"\n",
        "        return self.length * self.width\n",
        "rect = Rectangle()\n",
        "rect.set_dimensions(5, 3)\n",
        "print(f\"Area of the rectangle: {rect.area()}\")"
      ],
      "metadata": {
        "id": "71cdgEWDJkZX"
      },
      "execution_count": null,
      "outputs": []
    },
    {
      "cell_type": "markdown",
      "source": [
        "##Q 14.  Create a class Employee with a method calculate_salary() that computes the salary based on hours worked and hourly rate. Create a derived class Manager that adds a bonus to the salary."
      ],
      "metadata": {
        "id": "iCDDYT6oJoJV"
      }
    },
    {
      "cell_type": "code",
      "source": [
        "class Employee:\n",
        "    def __init__(self, name, hours_worked, hourly_rate):\n",
        "        self.name = name\n",
        "        self.hours_worked = hours_worked\n",
        "        self.hourly_rate = hourly_rate\n",
        "    def calculate_salary(self):\n",
        "        \"\"\"\n",
        "        Calculates the salary based on hours worked and hourly rate.\n",
        "        \"\"\"\n",
        "        return self.hours_worked * self.hourly_rate\n",
        "class Manager(Employee):\n",
        "    def __init__(self, name, hours_worked, hourly_rate, bonus):\n",
        "        super().__init__(name, hours_worked, hourly_rate)\n",
        "        self.bonus = bonus\n",
        "    def calculate_salary(self):\n",
        "        \"\"\"\n",
        "        Calculates the salary based on hours worked, hourly rate, and adds a bonus for managers.\n",
        "        \"\"\"\n",
        "        return super().calculate_salary() + self.bonus\n",
        "employee = Employee(\"Alice\", 40, 25)\n",
        "print(f\"{employee.name}'s salary: ${employee.calculate_salary()}\")\n",
        "manager = Manager(\"Bob\", 40, 30, 500)\n",
        "print(f\"{manager.name}'s salary: ${manager.calculate_salary()}\")"
      ],
      "metadata": {
        "id": "30ySIK61Jq6X"
      },
      "execution_count": null,
      "outputs": []
    },
    {
      "cell_type": "markdown",
      "source": [
        "##Q 15.  Create a class Product with attributes name, price, and quantity. Implement a method total_price() that calculates the total price of the product."
      ],
      "metadata": {
        "id": "_WVUj89lJwyX"
      }
    },
    {
      "cell_type": "code",
      "source": [
        "class Product:\n",
        "    def __init__(self, name, price, quantity):\n",
        "        self.name = name\n",
        "        self.price = price\n",
        "        self.quantity = quantity\n",
        "    def total_price(self):\n",
        "        \"\"\"\n",
        "        Calculates the total price of the product based on price and quantity.\n",
        "        \"\"\"\n",
        "        return self.price * self.quantity\n",
        "product1 = Product(\"Laptop\", 1000, 2)\n",
        "print(f\"Total price for {product1.name}: ${product1.total_price()}\")\n",
        "product2 = Product(\"Headphones\", 150, 3)\n",
        "print(f\"Total price for {product2.name}: ${product2.total_price()}\")"
      ],
      "metadata": {
        "id": "-hFpNRpkJzxB"
      },
      "execution_count": null,
      "outputs": []
    },
    {
      "cell_type": "markdown",
      "source": [
        "##Q 16. Create a class Animal with an abstract method sound(). Create two derived classes Cow and Sheep that implement the sound() method."
      ],
      "metadata": {
        "id": "YxcTRGmiJ0pn"
      }
    },
    {
      "cell_type": "code",
      "source": [
        "from abc import ABC, abstractmethod\n",
        "class Animal(ABC):\n",
        "    @abstractmethod\n",
        "    def sound(self):\n",
        "        pass\n",
        "class Cow(Animal):\n",
        "    def sound(self):\n",
        "        print(\"Moo!\")\n",
        "class Sheep(Animal):\n",
        "    def sound(self):\n",
        "        print(\"Baa!\")\n",
        "cow = Cow()\n",
        "cow.sound()\n",
        "sheep = Sheep()\n",
        "sheep.sound()"
      ],
      "metadata": {
        "id": "2-UsAOkIJ7OO"
      },
      "execution_count": null,
      "outputs": []
    },
    {
      "cell_type": "markdown",
      "source": [
        "##Q 17. Create a class Book with attributes title, author, and year_published. Add a method get_book_info() that returns a formatted string with the book's details."
      ],
      "metadata": {
        "id": "Ta_-x9xvJ_eH"
      }
    },
    {
      "cell_type": "code",
      "source": [
        "class Book:\n",
        "    def __init__(self, title, author, year_published):\n",
        "        self.title = title\n",
        "        self.author = author\n",
        "        self.year_published = year_published\n",
        "    def get_book_info(self):\n",
        "        return f\"Title: {self.title}\\nAuthor: {self.author}\\nYear Published: {self.year_published}\"\n",
        "book1 = Book(\"1984\", \"George Orwell\", 1949)\n",
        "print(book1.get_book_info())\n",
        "book2 = Book(\"To Kill a Mockingbird\", \"Harper Lee\", 1960)\n",
        "print(book2.get_book_info())"
      ],
      "metadata": {
        "id": "gCbzvfr4KCXM"
      },
      "execution_count": null,
      "outputs": []
    },
    {
      "cell_type": "markdown",
      "source": [
        "##Q 18. Create a class House with attributes address and price. Create a derived class Mansion that adds an attribute number_of_rooms"
      ],
      "metadata": {
        "id": "ICMa2cs8KGvn"
      }
    },
    {
      "cell_type": "code",
      "source": [
        "class House:\n",
        "    def __init__(self, address, price):\n",
        "        self.address = address\n",
        "        self.price = price\n",
        "    def get_details(self):\n",
        "        return f\"Address: {self.address}\\nPrice: ${self.price}\"\n",
        "class Mansion(House):\n",
        "    def __init__(self, address, price, number_of_rooms):\n",
        "        super().__init__(address, price)\n",
        "        self.number_of_rooms = number_of_rooms\n",
        "    def get_details(self):\n",
        "        base_details = super().get_details()\n",
        "        return f\"{base_details}\\nNumber of Rooms: {self.number_of_rooms}\"\n",
        "house = House(\"Dhanbad\", 250000)\n",
        "print(house.get_details())\n",
        "mansion = Mansion(\"The SEVEN\", 9999999, 10)\n",
        "print(mansion.get_details())"
      ],
      "metadata": {
        "id": "lfYvkIVzKMBh"
      },
      "execution_count": null,
      "outputs": []
    }
  ]
}